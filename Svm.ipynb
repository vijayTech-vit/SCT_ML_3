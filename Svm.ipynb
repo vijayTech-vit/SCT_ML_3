{
 "cells": [
  {
   "cell_type": "code",
   "execution_count": 8,
   "id": "d262e364-29a7-4242-92cb-99b1a6910f49",
   "metadata": {},
   "outputs": [
    {
     "name": "stdout",
     "output_type": "stream",
     "text": [
      " Classes in 'C:\\Users\\vijay_380drwx\\Downloads\\First Notebook\\Train': ['Cats', 'Dogs']\n",
      " Classes in 'C:\\Users\\vijay_380drwx\\Downloads\\First Notebook\\Test': ['Cats', 'Dogs']\n",
      "\n",
      " Training Data Shape: (42, 12288)\n",
      "\n",
      " Testing Data Shape: (42, 12288)\n",
      "\n",
      " Class Labels: ['Cats' 'Dogs']\n",
      " PCA Components Selected: 42\n",
      " PCA Applied. New Training Shape: (42, 42)\n",
      "\n",
      " Accuracy: 50.00%\n",
      "\n",
      " Classification Report:\n",
      "\n",
      "              precision    recall  f1-score   support\n",
      "\n",
      "        Cats       0.50      0.38      0.43        21\n",
      "        Dogs       0.50      0.62      0.55        21\n",
      "\n",
      "    accuracy                           0.50        42\n",
      "   macro avg       0.50      0.50      0.49        42\n",
      "weighted avg       0.50      0.50      0.49        42\n",
      "\n"
     ]
    },
    {
     "data": {
      "text/plain": [
       "<Figure size 600x500 with 0 Axes>"
      ]
     },
     "metadata": {},
     "output_type": "display_data"
    },
    {
     "data": {
      "image/png": "[encoded data removed]",
      "text/plain": [
       "<Figure size 640x480 with 2 Axes>"
      ]
     },
     "metadata": {},
     "output_type": "display_data"
    }
   ],
   "source": [
    "\n",
    "import os\n",
    "import numpy as np\n",
    "import matplotlib.pyplot as plt\n",
    "from sklearn import svm\n",
    "from sklearn.metrics import accuracy_score, classification_report, confusion_matrix, ConfusionMatrixDisplay\n",
    "from sklearn.preprocessing import LabelEncoder\n",
    "from sklearn.decomposition import PCA\n",
    "from tensorflow.keras.preprocessing.image import load_img, img_to_array\n",
    "\n",
    "\n",
    "\n",
    "def load_images_from_folder(folder, img_size=(64, 64)):\n",
    "    images = []\n",
    "    labels = []\n",
    "\n",
    "    class_folders = [f for f in os.listdir(folder) if os.path.isdir(os.path.join(folder, f))]\n",
    "\n",
    "    if not class_folders:\n",
    "        raise ValueError(f\" No class folders found in {folder}. Check folder structure.\")\n",
    "\n",
    "    print(f\" Classes in '{folder}': {class_folders}\")\n",
    "\n",
    "    for label in class_folders:\n",
    "        label_folder = os.path.join(folder, label)\n",
    "        for filename in os.listdir(label_folder):\n",
    "            img_path = os.path.join(label_folder, filename)\n",
    "            try:\n",
    "                img = load_img(img_path, target_size=img_size)\n",
    "                img_array = img_to_array(img) / 255.0\n",
    "                images.append(img_array.flatten())\n",
    "                labels.append(label)\n",
    "            except Exception as e:\n",
    "                print(f\" Error loading {img_path}: {e}\")\n",
    "\n",
    "    return np.array(images, dtype=np.float64), np.array(labels)\n",
    "\n",
    "\n",
    "\n",
    "train_folder = r'C:\\Users\\vijay_380drwx\\Downloads\\First Notebook\\Train'\n",
    "test_folder = r'C:\\Users\\vijay_380drwx\\Downloads\\First Notebook\\Test'\n",
    "\n",
    "\n",
    "X_train, y_train = load_images_from_folder(train_folder)\n",
    "X_test, y_test = load_images_from_folder(test_folder)\n",
    "\n",
    "print(f\"\\n Training Data Shape: {X_train.shape}\")\n",
    "print(f\"\\n Testing Data Shape: {X_test.shape}\")\n",
    "\n",
    "\n",
    "if X_train.shape[0] == 0 or X_test.shape[0] == 0:\n",
    "    raise ValueError(\" One of the datasets is empty. Check folder paths and images.\")\n",
    "\n",
    "\n",
    "le = LabelEncoder()\n",
    "y_train_encoded = le.fit_transform(y_train)\n",
    "y_test_encoded = le.transform(y_test)\n",
    "\n",
    "print(\"\\n Class Labels:\", le.classes_)\n",
    "n_components = min(100, X_train.shape[0], X_train.shape[1])\n",
    "print(f\" PCA Components Selected: {n_components}\")\n",
    "\n",
    "pca = PCA(n_components=n_components)\n",
    "X_train_pca = pca.fit_transform(X_train)\n",
    "X_test_pca = pca.transform(X_test)\n",
    "\n",
    "print(f\" PCA Applied. New Training Shape: {X_train_pca.shape}\")\n",
    "\n",
    "model = svm.SVC(kernel='linear')\n",
    "model.fit(X_train_pca, y_train_encoded)\n",
    "y_pred = model.predict(X_test_pca)\n",
    "accuracy = accuracy_score(y_test_encoded, y_pred)\n",
    "print(f\"\\n Accuracy: {accuracy * 100:.2f}%\")\n",
    "print(\"\\n Classification Report:\\n\")\n",
    "print(classification_report(y_test_encoded, y_pred, target_names=le.classes_))\n",
    "cm = confusion_matrix(y_test_encoded, y_pred)\n",
    "disp = ConfusionMatrixDisplay(confusion_matrix=cm, display_labels=le.classes_)\n",
    "\n",
    "plt.figure(figsize=(6, 5))\n",
    "disp.plot(cmap='Blues', values_format='d')\n",
    "plt.title(\"Confusion Matrix - Cats vs Dogs\")\n",
    "plt.show()\n"
   ]
  },
  {
   "cell_type": "code",
   "execution_count": null,
   "id": "4844c19b-87dc-4bce-8ea4-8f97b906577f",
   "metadata": {},
   "outputs": [],
   "source": []
  }
 ],
 "metadata": {
  "kernelspec": {
   "display_name": "Python 3 (ipykernel)",
   "language": "python",
   "name": "python3"
  },
  "language_info": {
   "codemirror_mode": {
    "name": "ipython",
    "version": 3
   },
   "file_extension": ".py",
   "mimetype": "text/x-python",
   "name": "python",
   "nbconvert_exporter": "python",
   "pygments_lexer": "ipython3",
   "version": "3.12.7"
  }
 },
 "nbformat": 4,
 "nbformat_minor": 5
}
